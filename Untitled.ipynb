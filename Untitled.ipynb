{
 "cells": [
  {
   "cell_type": "code",
   "execution_count": 5,
   "id": "79d9ec7e-09f7-400b-95aa-9265d98f19b1",
   "metadata": {},
   "outputs": [],
   "source": [
    "list_name=[3,5,6,7,5,6,3,'hello','hi','good_bye','best_of_luck']\n",
    "\n",
    "        "
   ]
  },
  {
   "cell_type": "code",
   "execution_count": 7,
   "id": "9707c134-4947-45c4-9a35-fe9d94905f08",
   "metadata": {},
   "outputs": [],
   "source": [
    "list_int=[]\n",
    "list_str=[]\n",
    "for i in list_name:\n",
    "    if type(i)==int:\n",
    "        list_str.append(i)\n",
    "    else:\n",
    "        list_int.append(i)"
   ]
  },
  {
   "cell_type": "code",
   "execution_count": null,
   "id": "431606a7-72b5-4c18-9965-4df8659bb1cd",
   "metadata": {},
   "outputs": [],
   "source": [
    "print(lisr_"
   ]
  }
 ],
 "metadata": {
  "kernelspec": {
   "display_name": "Python 3 (ipykernel)",
   "language": "python",
   "name": "python3"
  },
  "language_info": {
   "codemirror_mode": {
    "name": "ipython",
    "version": 3
   },
   "file_extension": ".py",
   "mimetype": "text/x-python",
   "name": "python",
   "nbconvert_exporter": "python",
   "pygments_lexer": "ipython3",
   "version": "3.10.8"
  }
 },
 "nbformat": 4,
 "nbformat_minor": 5
}
